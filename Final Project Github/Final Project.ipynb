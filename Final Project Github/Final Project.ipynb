{
 "cells": [
  {
   "cell_type": "markdown",
   "metadata": {},
   "source": [
    "# Final Project - Constrained, Multi-Objective, & Non-Linear Least Squares\n",
    "### Modeling & Optimization\n",
    "### Ethan Witkowski"
   ]
  },
  {
   "cell_type": "markdown",
   "metadata": {},
   "source": [
    "## Part I"
   ]
  },
  {
   "cell_type": "markdown",
   "metadata": {},
   "source": [
    "### 13.5"
   ]
  },
  {
   "cell_type": "markdown",
   "metadata": {},
   "source": [
    "a)\n",
    "<br>\n",
    "\n",
    "$A = $\n",
    "$ \\left(\\begin{array}{cc} \n",
    "1 & x_1^{(1)} & x_2^{(1)} & x_3^{(1)} & x_1^{2(1)} & x_2^{2(1)} & x_3^{2(1)} & x_1 x_2^{(1)} & x_1 x_3^{(1)} & x_2 x_3^{(1)}\\\\ \n",
    "1 & x_1^{(2)} & x_2^{(2)} & x_3^{(2)} & x_1^{2(2)} & x_2^{2(2)} & x_3^{2(2)} & x_1 x_2^{(2)} & x_1 x_3^{(2)} & x_2 x_3^{(2)}\\\\\n",
    "\\vdots & \\vdots & \\vdots & \\vdots & \\vdots & \\vdots & \\vdots & \\vdots & \\vdots & \\vdots\\\\\n",
    "1 & x_1^{(N)} & x_2^{(N)} & x_3^{(N)} & x_1^{2(N)} & x_2^{2(N)} & x_3^{2(N)} & x_1 x_2^{(N)} & x_1 x_3^{(N)} & x_2 x_3^{(N)}\n",
    "\\end{array}\\right)\n",
    "$"
   ]
  },
  {
   "cell_type": "markdown",
   "metadata": {},
   "source": [
    "b)\n",
    "<br>\n",
    "\n",
    "$p = 10$\n",
    "<br>\n",
    "\n",
    "$f_1(x) = 1$\n",
    "<br>\n",
    "$f_2(x) = x_1$\n",
    "<br>\n",
    "$f_3(x) = x_2$\n",
    "<br>\n",
    "$f_4(x) = x_3$\n",
    "<br>\n",
    "$f_5(x) = x_1^2$\n",
    "<br>\n",
    "$f_6(x) = x_2^2$\n",
    "<br>\n",
    "$f_7(x) = x_3^2$\n",
    "<br>\n",
    "$f_8(x) = x_1 x_2$\n",
    "<br>\n",
    "$f_9(x) = x_1 x_3$\n",
    "<br>\n",
    "$f_{10}(x) = x_2 x_3$\n",
    "\n"
   ]
  },
  {
   "cell_type": "markdown",
   "metadata": {},
   "source": [
    "### 13.9"
   ]
  },
  {
   "cell_type": "markdown",
   "metadata": {},
   "source": [
    "a)\n",
    "<br>\n",
    "\n",
    "As the RMS test error for each model in the cross-validation is similar, when fit on new data, I expect the model to perform similarly to the models in the cross-validation. Because the cross-validation RMS test errors are similar, I assume the models did not over-fit, and that new data will be similar to data seen in cross-validation."
   ]
  },
  {
   "cell_type": "markdown",
   "metadata": {},
   "source": [
    "b)\n",
    "<br>\n",
    "\n",
    "The cross-validation producing similar parameter values indicates stability, and enhances my confidence in the model. Instead of using the fold 3 model, I would fit a model over all the data, or use the average of the coefficients for all of the models."
   ]
  },
  {
   "cell_type": "markdown",
   "metadata": {},
   "source": [
    "### 15.1"
   ]
  },
  {
   "cell_type": "markdown",
   "metadata": {},
   "source": [
    "$J = \\lambda_{1}J_{1} + \\lambda_{2}J_{2} + ... + \\lambda_{k}J_{k}$ \n",
    "<br>\n",
    "\n",
    "Given $J_{i} = (x-b_{i})^2$\n",
    "<br>\n",
    "\n",
    "$J = \\lambda_{1}(x-b_{1})^2 + \\lambda_{2}(x-b_{2})^2 + ... + \\lambda_{k}(x-b_{k})^2$ \n",
    "<br>\n",
    "\n",
    "Without weighting, the function output is the b-vector, therefore the closest approximation is the average of the b-vector.\n",
    "<br>\n",
    "\n",
    "Given weighting, \n",
    "<br>\n",
    "\n",
    "$\\hat{x} = \\sum_{i=1}^{k} w_{i}b_{i}$\n",
    "<br>\n",
    "\n",
    "with $w_{i} = \\cfrac{\\lambda{i}}{k \\times \\sum_{i=1}^{k} \\lambda_{i}}$"
   ]
  },
  {
   "cell_type": "markdown",
   "metadata": {},
   "source": [
    "### 15.4"
   ]
  },
  {
   "cell_type": "markdown",
   "metadata": {},
   "source": [
    "Given $A_i ... A_K$ and $J_{i} = \\|A_{i}x - b\\|^2$\n",
    "<br>\n",
    "\n",
    "$x^{rob} = \\lambda_{1}(A_{1})^{-1}b + ... + \\lambda_{K}(A_{K})^{-1}b$\n",
    "<br>\n",
    "\n",
    "with $\\lambda_{i} = 1 - J_{i}$\n",
    "<br>\n",
    "\n",
    "For $K=1$, we assume $J=0$, as $A{_1} = A$\n",
    "<br>\n",
    "\n",
    "Therefore, $x^{rob} = (A_{1})^{-1}b$"
   ]
  },
  {
   "cell_type": "markdown",
   "metadata": {},
   "source": [
    "### 15.6"
   ]
  },
  {
   "cell_type": "markdown",
   "metadata": {},
   "source": [
    "Given:\n",
    "<br>\n",
    "\n",
    "$D = $ \n",
    "$\\left(\\begin{array}{cc} \n",
    "-1 & 1 & 0 & 0\\\\ \n",
    "0 & -1 & 1 & 0\\\\\n",
    "0 & 0 & -1 & 1 \n",
    "\\end{array}\\right)$\n",
    "<br>\n",
    "\n",
    "Therefore, $D\\vec{1} = \\vec{0}$\n",
    "<br>\n",
    "\n",
    "$A = $\n",
    "$\\left(\\begin{array}{cc} \n",
    "a_{1,1} & \\dots & \\dots & a_{1,n}\\\\ \n",
    "\\vdots & \\vdots & \\vdots & \\vdots\\\\ \n",
    "a_{m,1} & \\dots & \\dots & a_{m,n}\\\\\n",
    "\\end{array}\\right)$\n",
    "\n",
    "$Stack = $\n",
    "$\\left(\\begin{array}{cc} \n",
    "a_{1,1} & \\dots & \\dots & a_{1,n}\\\\ \n",
    "\\vdots & \\vdots & \\vdots & \\vdots\\\\ \n",
    "a_{m,1} & \\dots & \\dots & a_{m,n}\\\\ \n",
    "-1 & 1 & 0 & 0\\\\ \n",
    "0 & -1 & 1 & 0\\\\\n",
    "0 & 0 & -1 & 1 \n",
    "\\end{array}\\right)$\n",
    "<br>\n",
    "\n",
    "If and only if $A\\vec{1} = \\vec{0}$, then $Stack\\vec{1} = \\vec{0}$, and the columns of $Stack$ are linearly dependent.\n",
    "<br>\n",
    "\n",
    "Conversely, if and only if $A\\vec{1} \\neq \\vec{0}$, then the columns of $Stack$ are linearly independent.\n"
   ]
  },
  {
   "cell_type": "markdown",
   "metadata": {},
   "source": [
    "### 16.11"
   ]
  },
  {
   "cell_type": "markdown",
   "metadata": {},
   "source": [
    "Substitute $\\|y\\|$ in for $\\|x-a\\|$ \n",
    "<br>\n",
    "\n",
    "Therefore, $x=y+a$ and $Cx=d$ becomes $Cy=d-Ca$\n",
    "<br>\n",
    "\n",
    "Then, $y=C^{\\dagger}(d-Ca)$\n",
    "<br>\n",
    "\n",
    "Substitute $x-a=C^{\\dagger}(d-Ca)$\n",
    "<br>\n",
    "\n",
    "Lastly, $\\hat{x} = a - C^{\\dagger}(Ca-d)$\n"
   ]
  },
  {
   "cell_type": "markdown",
   "metadata": {},
   "source": [
    "## Part II"
   ]
  },
  {
   "cell_type": "code",
   "execution_count": 1,
   "metadata": {},
   "outputs": [],
   "source": [
    "import matplotlib.pyplot as plt\n",
    "import numpy as np\n",
    "import scipy\n",
    "from scipy.linalg import block_diag\n",
    "import pandas as pd"
   ]
  },
  {
   "cell_type": "markdown",
   "metadata": {},
   "source": [
    "### 13.3"
   ]
  },
  {
   "cell_type": "markdown",
   "metadata": {},
   "source": [
    "a)"
   ]
  },
  {
   "cell_type": "code",
   "execution_count": 53,
   "metadata": {},
   "outputs": [],
   "source": [
    "#Define data values - number of transistors, year\n",
    "Years = np.array([1971, 1972, 1974, 1978, 1982, 1985, 1989, 1993, 1997, 1999, 2000, 2002, 2003])\n",
    "Transistors = np.array([2250, 2500, 5000, 29000, 120000, 275000, 1180000, 3100000, 7500000, 24000000, \\\n",
    "                        42000000, 220000000, 410000000])\n",
    "\n",
    "#Take log of number of transistors\n",
    "Transistors = np.log(Transistors)"
   ]
  },
  {
   "cell_type": "markdown",
   "metadata": {},
   "source": [
    "Least Squares Solution:\n",
    "<br>\n",
    "\n",
    "$\\hat{\\theta} = (A^{T}A)^{-1}A^{T}y^{d}$\n",
    "\n",
    "Root Mean Square Error:\n",
    "<br>\n",
    "\n",
    "$RMSE = \\sqrt{\\cfrac{\\|y^{d}-A\\theta\\|^{2}}{N}}$"
   ]
  },
  {
   "cell_type": "code",
   "execution_count": 54,
   "metadata": {},
   "outputs": [],
   "source": [
    "#Define A matrix\n",
    "\n",
    "#Pre-allocate A\n",
    "A = np.empty([len(Years), 2])\n",
    "\n",
    "#Place in time series data\n",
    "for i,year in enumerate(Years):\n",
    "\n",
    "    A[i] = np.array([1, year])"
   ]
  },
  {
   "cell_type": "code",
   "execution_count": 55,
   "metadata": {},
   "outputs": [],
   "source": [
    "#Define observed y\n",
    "\n",
    "#Pre-allocate obeserved y\n",
    "y_d = np.empty([len(Transistors), 1])\n",
    "\n",
    "#Place in actual transistor data\n",
    "for i,transistor in enumerate(Transistors):\n",
    "\n",
    "    y_d[i] = np.array([transistor])"
   ]
  },
  {
   "cell_type": "code",
   "execution_count": 56,
   "metadata": {},
   "outputs": [],
   "source": [
    "#Least Squares Solution\n",
    "\n",
    "LS_step_1 = np.linalg.inv(np.matmul(np.transpose(A), A))\n",
    "\n",
    "LS_step_2 = np.matmul(LS_step_1, np.transpose(A))\n",
    "\n",
    "LS_step_3 = np.matmul(LS_step_2, y_d)\n",
    "\n",
    "theta_hat = LS_step_3"
   ]
  },
  {
   "cell_type": "code",
   "execution_count": 57,
   "metadata": {},
   "outputs": [],
   "source": [
    "#Prediction values \n",
    "\n",
    "Years = np.array([1971, 1972, 1974, 1978, 1982, 1985, 1989, 1993, 1997, 1999, 2000, 2002, 2003])\n",
    "LS_transistor = np.empty([len(Years)])\n",
    "\n",
    "for i,year in enumerate(Years):\n",
    "\n",
    "    LS_transistor[i] = (theta_hat[0][0])+((theta_hat[1][0])*(year))"
   ]
  },
  {
   "cell_type": "code",
   "execution_count": 58,
   "metadata": {},
   "outputs": [],
   "source": [
    "#Root Mean Square Error\n",
    "\n",
    "#Number of observations\n",
    "N = len(Transistors)\n",
    "\n",
    "#RSME calculation\n",
    "rmse = np.sqrt(np.linalg.norm(LS_transistor - Transistors) / N)"
   ]
  },
  {
   "cell_type": "markdown",
   "metadata": {},
   "source": [
    "RMS minimizing $\\theta_{1} = -691.44$\n",
    "<br>\n",
    "\n",
    "RMS minimizing $\\theta_{2} = 0.355$\n",
    "<br> \n",
    "\n",
    "RMS error $= .360$"
   ]
  },
  {
   "cell_type": "code",
   "execution_count": 59,
   "metadata": {
    "scrolled": true
   },
   "outputs": [
    {
     "data": {
      "text/plain": [
       "<function matplotlib.pyplot.show(*args, **kw)>"
      ]
     },
     "execution_count": 59,
     "metadata": {},
     "output_type": "execute_result"
    },
    {
     "data": {
      "image/png": "[encoded data removed]",
      "text/plain": [
       "<Figure size 432x288 with 1 Axes>"
      ]
     },
     "metadata": {
      "needs_background": "light"
     },
     "output_type": "display_data"
    }
   ],
   "source": [
    "#Plotting data and prediction\n",
    "\n",
    "#Continuous time, pre-allocation\n",
    "continuous_year = np.arange(1970,2020)\n",
    "LS_cont_transistor = np.empty([len(continuous_year)])\n",
    "\n",
    "#Prediction\n",
    "for j,cont_year in enumerate(continuous_year):\n",
    "\n",
    "    LS_cont_transistor[j] = (theta_hat[0][0])+((theta_hat[1][0])*(cont_year))\n",
    "    \n",
    "#Plotting\n",
    "plt.scatter(Years, Transistors)\n",
    "plt.xlabel('Year')\n",
    "plt.ylabel('Log Transistors per CPU')\n",
    "plt.title('Log Transistors per CPU across Time')\n",
    "plt.xlim([1969,2005])\n",
    "plt.ylim([0,25])\n",
    "\n",
    "plt.plot(continuous_year, LS_cont_transistor)\n",
    "plt.show"
   ]
  },
  {
   "cell_type": "markdown",
   "metadata": {},
   "source": [
    "b)"
   ]
  },
  {
   "cell_type": "code",
   "execution_count": 60,
   "metadata": {},
   "outputs": [],
   "source": [
    "#Prediction for 2015\n",
    "\n",
    "#Declare year, pre-allocation\n",
    "year_2015 = np.array([2015])\n",
    "LS_2015_transistor = np.empty([len(year_2015)])\n",
    "\n",
    "#Prediction 2015\n",
    "for k,year in enumerate(year_2015):\n",
    "\n",
    "    LS_2015_transistor[k] = (theta_hat[0][0])+((theta_hat[1][0])*(year))\n",
    "\n",
    "#Reverse logarithmic transformation\n",
    "LS_2015_transistor = np.exp(LS_2015_transistor)"
   ]
  },
  {
   "cell_type": "markdown",
   "metadata": {},
   "source": [
    "The predicted number of transistors per CPU in 2015 is $1.14 \\times 10^{10}$. The predicted value is $7.4 \\times 10^{9}$ transistors per CPU greater than the actual number of transistors per CPU in 2015, $4 \\times 10^{9}$."
   ]
  },
  {
   "cell_type": "markdown",
   "metadata": {},
   "source": [
    "c)"
   ]
  },
  {
   "cell_type": "code",
   "execution_count": 61,
   "metadata": {},
   "outputs": [
    {
     "name": "stdout",
     "output_type": "stream",
     "text": [
      "1.4256672716945757\n"
     ]
    }
   ],
   "source": [
    "#Reverse logarithmic transformation of theta_2\n",
    "actual_theta_2 = np.exp(theta_hat[1][0])\n",
    "print(actual_theta_2)"
   ]
  },
  {
   "cell_type": "markdown",
   "metadata": {},
   "source": [
    "The least squares model predicts the number of transistors per CPU will be multiplied by 1.43 each year. This is lower than Moore's Law, which predicts the doubling of transistors per CPU each year."
   ]
  },
  {
   "cell_type": "markdown",
   "metadata": {},
   "source": [
    "### 16.5)"
   ]
  },
  {
   "cell_type": "code",
   "execution_count": 62,
   "metadata": {},
   "outputs": [],
   "source": [
    "#Generate random 20x10 matrix A, random 5x10 matrix C\n",
    "A = np.random.randint(10, size=(20, 10))\n",
    "C = np.random.randint(10, size=(5, 10))\n",
    "\n",
    "#Generate vectors b,d\n",
    "b = np.random.randint(10, size=(20, 1))\n",
    "d = np.random.randint(10, size=(5, 1))"
   ]
  },
  {
   "cell_type": "markdown",
   "metadata": {},
   "source": [
    "a)"
   ]
  },
  {
   "cell_type": "markdown",
   "metadata": {},
   "source": [
    "KKT equation:\n",
    "<br>\n",
    "\n",
    "$\\left(\\begin{array}{cc} \n",
    "2A^{T}A & C^T\\\\\n",
    "C & 0\n",
    "\\end{array}\\right)\n",
    "$\n",
    "$\\left(\\begin{array}{cc} \n",
    "\\hat{x}\\\\\n",
    "\\hat{z}\n",
    "\\end{array}\\right)\n",
    "$\n",
    "$=$\n",
    "$\\left(\\begin{array}{cc} \n",
    "2A^{T}b\\\\\n",
    "d\n",
    "\\end{array}\\right)\n",
    "$\n",
    "<br>\n"
   ]
  },
  {
   "cell_type": "code",
   "execution_count": 12,
   "metadata": {},
   "outputs": [],
   "source": [
    "#Element 0,0 in KKT Matrix\n",
    "A_T_A2 = np.matmul((2*(np.transpose(A))),A)\n",
    "\n",
    "#Element 0,1 in KKT Matrix\n",
    "C_T = np.transpose(C)\n",
    "\n",
    "#Element 0 in KKT vector\n",
    "A_T_b2 = np.matmul((2*(np.transpose(A))),b)\n",
    "\n",
    "#Create KKT matrix\n",
    "KKT_matrix = np.block([[A_T_A2, C_T], [C, np.zeros((5,5))]])\n",
    "\n",
    "#Create KKT vector\n",
    "KKT_vector = np.block([[A_T_b2],[d]])\n",
    "\n",
    "#Use np.solve to solve for x,z\n",
    "x_z = np.linalg.solve(KKT_matrix, KKT_vector)"
   ]
  },
  {
   "cell_type": "code",
   "execution_count": 13,
   "metadata": {},
   "outputs": [
    {
     "name": "stdout",
     "output_type": "stream",
     "text": [
      "[[-0.08922481]\n",
      " [ 0.20215763]\n",
      " [-0.13884004]\n",
      " [-0.5102118 ]\n",
      " [ 0.59119042]\n",
      " [ 0.62632265]\n",
      " [-0.55435063]\n",
      " [ 1.04348676]\n",
      " [ 0.01789043]\n",
      " [-0.25302692]]\n"
     ]
    }
   ],
   "source": [
    "#x_hat is a 10x1 vector, given Cx=d\n",
    "\n",
    "x_hat = x_z[0:10]\n",
    "print(x_hat)"
   ]
  },
  {
   "cell_type": "markdown",
   "metadata": {},
   "source": [
    "b)"
   ]
  },
  {
   "cell_type": "code",
   "execution_count": 14,
   "metadata": {},
   "outputs": [
    {
     "name": "stdout",
     "output_type": "stream",
     "text": [
      "[[ 8.88178420e-16]\n",
      " [-7.99360578e-15]\n",
      " [-8.88178420e-16]\n",
      " [ 2.66453526e-15]\n",
      " [-1.06581410e-14]]\n"
     ]
    }
   ],
   "source": [
    "#Test if Cx-d is nearly zero\n",
    "C_x = np.matmul(C,x_hat)\n",
    "\n",
    "C_x_d = np.subtract(C_x, d)\n",
    "print(C_x_d)\n",
    "\n",
    "#Cx-d is nearly zero"
   ]
  },
  {
   "cell_type": "markdown",
   "metadata": {},
   "source": [
    "c)"
   ]
  },
  {
   "cell_type": "markdown",
   "metadata": {},
   "source": [
    "Least Norm Equation:\n",
    "<br>\n",
    "\n",
    "$\\left(\\begin{array}{cc} \n",
    "2I & C^T\\\\\n",
    "C & 0\n",
    "\\end{array}\\right)\n",
    "$\n",
    "$\\left(\\begin{array}{cc} \n",
    "\\hat{x}\\\\\n",
    "\\hat{z}\n",
    "\\end{array}\\right)\n",
    "$\n",
    "$=$\n",
    "$\\left(\\begin{array}{cc} \n",
    "0\\\\\n",
    "d\n",
    "\\end{array}\\right)\n",
    "$\n",
    "<br>\n"
   ]
  },
  {
   "cell_type": "code",
   "execution_count": 15,
   "metadata": {},
   "outputs": [],
   "source": [
    "#Element 0,0 in x^ln KKT matrix\n",
    "I_2 = 2*(np.identity(10))\n",
    "\n",
    "#Least norm matrix x^ln\n",
    "least_norm_matrix = np.block([[I_2, C_T],[C, np.zeros((5,5))]])\n",
    "\n",
    "#Least norm vector x^ln\n",
    "least_norm_vector = np.block([[np.zeros((10,1))],[d]])\n",
    "\n",
    "#Solve for least norm solution x^ln\n",
    "least_norm_sol = np.linalg.solve(least_norm_matrix, least_norm_vector)"
   ]
  },
  {
   "cell_type": "code",
   "execution_count": 16,
   "metadata": {},
   "outputs": [
    {
     "name": "stdout",
     "output_type": "stream",
     "text": [
      "[[ 0.09641489]\n",
      " [ 0.08682662]\n",
      " [-0.34661219]\n",
      " [-0.78011606]\n",
      " [ 0.36127314]\n",
      " [ 0.54592554]\n",
      " [ 0.11021817]\n",
      " [ 0.5162268 ]\n",
      " [ 0.17428268]\n",
      " [-0.28202388]]\n"
     ]
    }
   ],
   "source": [
    "#x^ln is a 10x1 vector, given Cx=d\n",
    "ln_x_hat = least_norm_sol[0:10]\n",
    "print(ln_x_hat)"
   ]
  },
  {
   "cell_type": "markdown",
   "metadata": {},
   "source": [
    "d)"
   ]
  },
  {
   "cell_type": "code",
   "execution_count": 17,
   "metadata": {},
   "outputs": [],
   "source": [
    "#Confirm least squares x^ln is greater than x_hat\n",
    "\n",
    "def ls_x_hat(A, b, x):\n",
    "\n",
    "    #Compute A times x\n",
    "    A_x = np.matmul(A,x)\n",
    "\n",
    "    #Compute Ax-b\n",
    "    A_x_b = A_x - b\n",
    "\n",
    "    #Compute norm of Ax-b\n",
    "    norm_x_hat = np.linalg.norm(A_x_b,axis=0)\n",
    "\n",
    "    #Compute square of norm of Ax-b\n",
    "    sq_norm_x_hat = (norm_x_hat)**2\n",
    "    \n",
    "    return sq_norm_x_hat"
   ]
  },
  {
   "cell_type": "code",
   "execution_count": 18,
   "metadata": {},
   "outputs": [
    {
     "data": {
      "text/plain": [
       "array([370.85716847])"
      ]
     },
     "execution_count": 18,
     "metadata": {},
     "output_type": "execute_result"
    }
   ],
   "source": [
    "#Least squares x^hat\n",
    "ls_x_hat(A, b, x=x_hat)"
   ]
  },
  {
   "cell_type": "code",
   "execution_count": 19,
   "metadata": {},
   "outputs": [
    {
     "data": {
      "text/plain": [
       "array([564.99662048])"
      ]
     },
     "execution_count": 19,
     "metadata": {},
     "output_type": "execute_result"
    }
   ],
   "source": [
    "#Least squares x^ln (least norm)\n",
    "ls_x_hat(A, b, x=ln_x_hat)"
   ]
  },
  {
   "cell_type": "code",
   "execution_count": 20,
   "metadata": {},
   "outputs": [],
   "source": [
    "#It is confirmed - least squares x^ln is greater than least squares x^hat"
   ]
  },
  {
   "cell_type": "markdown",
   "metadata": {},
   "source": [
    "### 17.6"
   ]
  },
  {
   "cell_type": "markdown",
   "metadata": {},
   "source": [
    "a)"
   ]
  },
  {
   "cell_type": "code",
   "execution_count": 21,
   "metadata": {},
   "outputs": [],
   "source": [
    "#Declare change matrices\n",
    "A = np.matrix([[.99, .03, -.02, -.32],[.01, .47, 4.7, 0],[.02, -.06, .4, 0],[.01, -.04, .72, .99]])\n",
    "B = np.matrix([[.1, .99],[-3.44, 1.66],[-.83, .44],[-.47, .25]])"
   ]
  },
  {
   "cell_type": "code",
   "execution_count": 22,
   "metadata": {},
   "outputs": [],
   "source": [
    "#Function to iterate x to next state using matrix A, matrix B, and u\n",
    "\n",
    "def update_x(x_current):\n",
    "    \n",
    "    x_next = (A*x_current) + (B*u_vector)\n",
    "    \n",
    "    return x_next"
   ]
  },
  {
   "cell_type": "code",
   "execution_count": 23,
   "metadata": {},
   "outputs": [],
   "source": [
    "#Function to iterate x over specified time\n",
    "\n",
    "def state_traj(time_iter, x_current):\n",
    "    \n",
    "    for iter in range(time_iter):\n",
    "        \n",
    "        #Run update_x using the final element in each x_current column\n",
    "        x_next = update_x(x_current[:,-1])\n",
    "        \n",
    "        #Concatenate most current x-state to x_current\n",
    "        x_current = np.concatenate((x_current, x_next), axis=1)\n",
    "        \n",
    "    x_final = x_current[:,-1]\n",
    "    print(x_final)\n",
    "    \n",
    "    return x_final,x_current"
   ]
  },
  {
   "cell_type": "code",
   "execution_count": 24,
   "metadata": {},
   "outputs": [],
   "source": [
    "#Input initial x-state, u-vector and final time iteration\n",
    "x_current = np.matrix([[0],[0],[0],[1]])\n",
    "\n",
    "u_vector = np.matrix([[0],[0]])\n",
    "\n",
    "time_iter = 120"
   ]
  },
  {
   "cell_type": "code",
   "execution_count": 25,
   "metadata": {},
   "outputs": [
    {
     "name": "stdout",
     "output_type": "stream",
     "text": [
      "[[-1.56527465]\n",
      " [-0.28557245]\n",
      " [-0.02613494]\n",
      " [-0.25404265]]\n"
     ]
    }
   ],
   "source": [
    "#Simulate Open Loop Trajectory\n",
    "\n",
    "x_final, x_current = state_traj(time_iter, x_current)"
   ]
  },
  {
   "cell_type": "code",
   "execution_count": 26,
   "metadata": {},
   "outputs": [
    {
     "data": {
      "image/png": "[encoded data removed]",
      "text/plain": [
       "<Figure size 432x288 with 1 Axes>"
      ]
     },
     "metadata": {
      "needs_background": "light"
     },
     "output_type": "display_data"
    }
   ],
   "source": [
    "#Plot linear dynamical system\n",
    "\n",
    "plt.figure()\n",
    "for i in range(x_current.shape[0]):\n",
    "    plt.plot(np.transpose(x_current[i,:]), label = i+1)\n",
    "    \n",
    "plt.legend()\n",
    "plt.suptitle('Open Loop Trajectory')\n",
    "\n",
    "plt.show()"
   ]
  },
  {
   "cell_type": "markdown",
   "metadata": {},
   "source": [
    "b)"
   ]
  },
  {
   "cell_type": "code",
   "execution_count": 27,
   "metadata": {},
   "outputs": [],
   "source": [
    "#len_x = n, len_u = m\n",
    "len_x = 4\n",
    "len_u = 2\n",
    "\n",
    "#Declare input variables\n",
    "rho = 100\n",
    "T = 100\n",
    "C = np.identity(len_x)\n",
    "\n",
    "#inital x\n",
    "x_init = np.array([[0],[0],[0],[1]])\n",
    "\n",
    "#destination x\n",
    "x_des = np.array([[0],[0],[0],[0]])\n",
    "\n",
    "#len_z = Tn+(T-1)m \n",
    "len_z = (T*len_x)+((T-1)*len_u)"
   ]
  },
  {
   "cell_type": "code",
   "execution_count": 28,
   "metadata": {},
   "outputs": [],
   "source": [
    "#Create A_tilde\n",
    "\n",
    "#Create list of C matrices to make C block\n",
    "C_list = []\n",
    "for i in range(T):\n",
    "    C_list.append(C)\n",
    "\n",
    "#Declare block of C matrices, dimensions must be (n times T by n times T)\n",
    "C_block = scipy.linalg.block_diag(*C_list)\n",
    "\n",
    "#variable for sqrt(rho)I; I has dimensions mxm\n",
    "sqrt_rho_I = np.dot((np.sqrt(rho)),(np.identity(len_u)))\n",
    "\n",
    "#Declare list of sqrt_I_rho matrices to make block\n",
    "sqrt_rho_I_list = []\n",
    "for j in range((T-1)):\n",
    "    sqrt_rho_I_list.append(sqrt_rho_I)\n",
    "\n",
    "#Declare block of sqrt_I_rho matrices, dimensions must be (m times T-1 by m times T-1) \n",
    "block_sqrt_rho_I = scipy.linalg.block_diag(*sqrt_rho_I_list)\n",
    "\n",
    "#Declare top right zeros matrix\n",
    "top_r_A_tilde = np.zeros((400, 198))\n",
    "\n",
    "#Declare bottom left zeros matrix\n",
    "bottom_l_A_tilde = np.zeros((198, 400))\n",
    "\n",
    "#Create A_tilde\n",
    "A_tilde = np.block([[C_block, top_r_A_tilde],[bottom_l_A_tilde, block_sqrt_rho_I]])"
   ]
  },
  {
   "cell_type": "code",
   "execution_count": 29,
   "metadata": {},
   "outputs": [],
   "source": [
    "#Create C tilde\n",
    "\n",
    "#Create C tilde top left matrix\n",
    "top_l_C_tilde = np.zeros((396,400))\n",
    "\n",
    "subset = np.array([[.99,.03,-.02,-.32,-1,0,0,0],[.01,.47,4.7,0,0,-1,0,0], \\\n",
    "                   [.02,-.06,.4,0,0,0,-1,0],[.01,-.04,.72,.99,0,0,0,-1]])\n",
    "\n",
    "for i in range(0, len(top_l_C_tilde), 4):\n",
    "    top_l_C_tilde[i:i+4, i:i+8] = subset\n",
    "\n",
    "#Create C tilde bottom left\n",
    "bot_l_C_tilde = np.zeros((194,400))\n",
    "\n",
    "for i,val in enumerate(range(4)):\n",
    "    bot_l_C_tilde[i, i] = 1\n",
    "\n",
    "#for j,val_2 in enumerate(range(190,194)):\n",
    "#    bot_l_C_tilde[j, j+206] = 1\n",
    "\n",
    "bot_l_C_tilde[190, 396] = 1\n",
    "bot_l_C_tilde[191, 397] = 1\n",
    "bot_l_C_tilde[192, 398] = 1\n",
    "bot_l_C_tilde[193, 399] = 1\n",
    "\n",
    "#Create C tilde bottom right\n",
    "bot_r_C_tilde = np.zeros((194,198))\n",
    "\n",
    "#Create C tilde top right\n",
    "B_list = []\n",
    "for i in range(T-1):\n",
    "    B_list.append(B)\n",
    "\n",
    "top_r_C_tilde = scipy.linalg.block_diag(*B_list)\n",
    "\n",
    "#Create C_tilde\n",
    "C_tilde = np.block([[top_l_C_tilde, top_r_C_tilde],[bot_l_C_tilde, bot_r_C_tilde]])"
   ]
  },
  {
   "cell_type": "code",
   "execution_count": 30,
   "metadata": {},
   "outputs": [],
   "source": [
    "#Create b tilde\n",
    "b_tilde = np.zeros(((len(np.transpose(A_tilde)),1)))"
   ]
  },
  {
   "cell_type": "code",
   "execution_count": 31,
   "metadata": {},
   "outputs": [],
   "source": [
    "#Create d tilde\n",
    "d_tilde = np.zeros(((len(C_tilde),1)))\n",
    "\n",
    "d_tilde[582:586,:] = x_init\n",
    "d_tilde[586:590,:] = x_des"
   ]
  },
  {
   "cell_type": "markdown",
   "metadata": {},
   "source": [
    "KKT equations:\n",
    "<br>\n",
    "\n",
    "$\\left(\\begin{array}{cc} \n",
    "2\\tilde{A}^{T}\\tilde{A} & \\tilde{C}^T\\\\\n",
    "\\tilde{C} & 0\n",
    "\\end{array}\\right)\n",
    "$\n",
    "$\\left(\\begin{array}{cc} \n",
    "\\hat{x}\\\\\n",
    "\\hat{u}\n",
    "\\end{array}\\right)\n",
    "$\n",
    "$=$\n",
    "$\\left(\\begin{array}{cc} \n",
    "2\\tilde{A}^{T}\\tilde{b}\\\\\n",
    "\\tilde{d}\n",
    "\\end{array}\\right)\n",
    "$\n",
    "<br>"
   ]
  },
  {
   "cell_type": "code",
   "execution_count": 32,
   "metadata": {},
   "outputs": [],
   "source": [
    "#Element 0,0 in KKT Matrix\n",
    "A_tilde_T_A_tilde_2 = np.matmul((2*(np.transpose(A_tilde))),A_tilde)\n",
    "\n",
    "#Element 0,1 in KKT Matrix\n",
    "C_tilde_T = np.transpose(C_tilde)\n",
    "\n",
    "#Element 0 in KKT vector\n",
    "A_tilde_T_b_tilde_2 = np.matmul((2*(np.transpose(A_tilde))),b_tilde)\n",
    "\n",
    "#Create KKT matrix\n",
    "KKT_matrix_2 = np.block([[A_tilde_T_A_tilde_2, C_tilde_T], [C_tilde, np.zeros((590,590))]])\n",
    "\n",
    "#Create KKT vector\n",
    "KKT_vector_2 = np.block([[A_tilde_T_b_tilde_2],[d_tilde]])\n",
    "\n",
    "#Use np.solve to solve for z tilde\n",
    "#z_tilde = np.linalg.solve(KKT_matrix_2, KKT_vector_2)"
   ]
  },
  {
   "cell_type": "code",
   "execution_count": 33,
   "metadata": {},
   "outputs": [],
   "source": [
    "#Unable to rectify singularity error when computing z_tilde\n",
    "#Therefore, use external KKT matrix to continue with analysis\n",
    "KKT_matrix_2_check = np.load('KKT.npy')"
   ]
  },
  {
   "cell_type": "code",
   "execution_count": 34,
   "metadata": {},
   "outputs": [],
   "source": [
    "#Create KKT vector\n",
    "KKT_vector_2_check = np.zeros(((1002,1)))\n",
    "KKT_vector_2_check[994:998,:] = x_init\n",
    "KKT_vector_2_check[998:1002,:] = x_des"
   ]
  },
  {
   "cell_type": "code",
   "execution_count": 35,
   "metadata": {},
   "outputs": [],
   "source": [
    "#Solve KKT equation\n",
    "z_tilde = np.linalg.solve(KKT_matrix_2_check, KKT_vector_2_check)"
   ]
  },
  {
   "cell_type": "code",
   "execution_count": 36,
   "metadata": {},
   "outputs": [],
   "source": [
    "#Define x solution \n",
    "x_sol = z_tilde[0:400,:]"
   ]
  },
  {
   "cell_type": "code",
   "execution_count": 37,
   "metadata": {},
   "outputs": [],
   "source": [
    "#Split x solution across values\n",
    "sol_array = []\n",
    "for i in range(4):\n",
    "    append_sol = [x_sol[idx][0] for idx in range(0+i, len(x_sol), 4)]\n",
    "    sol_array.append(append_sol)"
   ]
  },
  {
   "cell_type": "code",
   "execution_count": 38,
   "metadata": {},
   "outputs": [
    {
     "data": {
      "image/png": "[encoded data removed]",
      "text/plain": [
       "<Figure size 432x288 with 1 Axes>"
      ]
     },
     "metadata": {
      "needs_background": "light"
     },
     "output_type": "display_data"
    }
   ],
   "source": [
    "#Plot x solution across time\n",
    "plt.figure()\n",
    "\n",
    "for i in range(4):\n",
    "    plt.plot(range(len(sol_array[i])),sol_array[i])\n",
    "    \n",
    "plt.title('x Solution Across Time')\n",
    "\n",
    "plt.show()"
   ]
  },
  {
   "cell_type": "code",
   "execution_count": 39,
   "metadata": {},
   "outputs": [],
   "source": [
    "#Define u solution \n",
    "u_sol = z_tilde[400:598,:]"
   ]
  },
  {
   "cell_type": "code",
   "execution_count": 40,
   "metadata": {},
   "outputs": [],
   "source": [
    "#Split u solution across 4 values\n",
    "u_sol_array = []\n",
    "for i in range(4):\n",
    "    append_sol = [u_sol[idx][0] for idx in range(0+i, len(u_sol), 4)]\n",
    "    u_sol_array.append(append_sol)"
   ]
  },
  {
   "cell_type": "code",
   "execution_count": 41,
   "metadata": {},
   "outputs": [
    {
     "data": {
      "image/png": "[encoded data removed]",
      "text/plain": [
       "<Figure size 432x288 with 1 Axes>"
      ]
     },
     "metadata": {
      "needs_background": "light"
     },
     "output_type": "display_data"
    }
   ],
   "source": [
    "#Plot u solutions across time\n",
    "plt.figure()\n",
    "\n",
    "for i in range(4):\n",
    "    plt.plot(range(len(u_sol_array[i])),u_sol_array[i])\n",
    "    \n",
    "plt.title('u Solution Across Time')\n",
    "\n",
    "plt.show()"
   ]
  },
  {
   "cell_type": "markdown",
   "metadata": {},
   "source": [
    "c)"
   ]
  },
  {
   "cell_type": "code",
   "execution_count": 42,
   "metadata": {},
   "outputs": [
    {
     "name": "stdout",
     "output_type": "stream",
     "text": [
      "[[0.23209177 0.23200751 0.23214315 0.23212416]\n",
      " [0.00630401 0.0063299  0.00626438 0.00641365]]\n"
     ]
    }
   ],
   "source": [
    "#Find K by solving KKT equation for x_1 = e1, e2, e3, e4\n",
    "#Create K state feedback by taking first and second element in u, (z=400,401), for each basis vector, \\\n",
    "#and placing in K columns\n",
    "\n",
    "#Create K state feedback\n",
    "K_state_feedback = np.empty([2,4])\n",
    "\n",
    "#Basis 4\n",
    "K_col_4 = u_sol[0:2,:]\n",
    "K_state_feedback[0,0]=K_col_4[0][0]\n",
    "K_state_feedback[1,0]=K_col_4[1][0]\n",
    "\n",
    "#Basis 3\n",
    "#KKT vector basis 3\n",
    "KKT_vector_2_check[998:1002,:] = np.array([[0],[0],[1],[0]])\n",
    "\n",
    "#Solve for basis 3\n",
    "z_tilde = np.linalg.solve(KKT_matrix_2_check, KKT_vector_2_check)\n",
    "K_col_3 = z_tilde[400:402,:]\n",
    "K_state_feedback[0,1]=K_col_3[0][0]\n",
    "K_state_feedback[1,1]=K_col_3[1][0]\n",
    "\n",
    "#Basis 2\n",
    "#KKT vector basis 2\n",
    "KKT_vector_2_check[998:1002,:] = np.array([[0],[1],[0],[0]])\n",
    "\n",
    "#Solve for basis 2\n",
    "z_tilde = np.linalg.solve(KKT_matrix_2_check, KKT_vector_2_check)\n",
    "K_col_2 = z_tilde[400:402,:]\n",
    "K_state_feedback[0,2]=K_col_2[0][0]\n",
    "K_state_feedback[1,2]=K_col_2[1][0]\n",
    "\n",
    "#Basis 1\n",
    "#KKT vector basis 1\n",
    "KKT_vector_2_check[998:1002,:] = np.array([[1],[0],[0],[0]])\n",
    "\n",
    "#Solve for basis 1\n",
    "z_tilde = np.linalg.solve(KKT_matrix_2_check, KKT_vector_2_check)\n",
    "K_col_1 = z_tilde[400:402,:]\n",
    "K_state_feedback[0,3]=K_col_1[0][0]\n",
    "K_state_feedback[1,3]=K_col_1[1][0]\n",
    "\n",
    "print(K_state_feedback)"
   ]
  },
  {
   "cell_type": "markdown",
   "metadata": {},
   "source": [
    "### 18.1"
   ]
  },
  {
   "cell_type": "markdown",
   "metadata": {},
   "source": [
    "a)"
   ]
  },
  {
   "cell_type": "markdown",
   "metadata": {},
   "source": [
    "The Levenberg-Marquardt update is $ x^{k + 1 } =  x^{k} - \\frac{ f'(x^k ) }{ \\lambda ^ k + (f'(x^k))^2 } f(x^k)$ \n",
    "<br>\n",
    "\n",
    "Given $f(x) = xe^{x} - u$ and $f'(x) = e^{x} + xe^{x}$\n",
    "<br>\n",
    "                                                          \n",
    "The Levenberg-Marquardt update is $ x^{k + 1 } =  x^{k} - \\frac{ e^{x^k} + x^ke^{x^l} }{ \\lambda ^ k + ( e^{x^k} + x^ke^{x^l} )^2 } x^ke^{x^k}$"
   ]
  },
  {
   "cell_type": "markdown",
   "metadata": {},
   "source": [
    "b)"
   ]
  },
  {
   "cell_type": "code",
   "execution_count": 43,
   "metadata": {},
   "outputs": [],
   "source": [
    "#Taylor approximation function\n",
    "def taylor_approximate(x_k, value):\n",
    "    return x_k * np.exp(x_k) - value\n",
    "\n",
    "#Levenberg-Marquardt update function\n",
    "def update_function(x_k, x_init, value, lambda_error):\n",
    "\n",
    "    #Approximate function at x_k\n",
    "    function_x_k  = taylor_approximate(x_k, value)\n",
    "\n",
    "    #Take derivative at x_k\n",
    "    derivative_x_k = x_k * np.exp(x_k) +  np.exp(x_k)\n",
    "\n",
    "    #Use Levenberg-Marquardt formula to update\n",
    "    evaluate = (derivative_x_k / (lambda_error + (derivative_x_k)**2 )) * function_x_k\n",
    "\n",
    "    #x^(k+1)\n",
    "    x_k_next  = x_k - evaluate\n",
    "\n",
    "    return x_k_next"
   ]
  },
  {
   "cell_type": "code",
   "execution_count": 44,
   "metadata": {},
   "outputs": [],
   "source": [
    "#Function minimizes f(x)^2 to compute Lambert W-function\n",
    "\n",
    "def Compute_W(value):\n",
    "    \n",
    "    #Initalize values\n",
    "    x_init  = 1\n",
    "    lambda_init = 1\n",
    "    threshold = (10)**(-6)\n",
    "\n",
    "    #Evaluates function at previous value\n",
    "    eval_prev =  update_function(x_init, x_init, value, lambda_init)\n",
    "    \n",
    "    #Evaluates function at current value\n",
    "    eval_next = update_function(x_init, x_init, value, lambda_init)\n",
    "\n",
    "    #Run algorithm\n",
    "    while True:\n",
    "\n",
    "        #Calculate norm of previous value of x_k\n",
    "        prev_norm = np.linalg.norm(taylor_approximate(eval_prev, value))\n",
    "        \n",
    "        #Update using Levenberg-Marquardt\n",
    "        eval_next = update_function(eval_prev, x_init, value, lambda_init)\n",
    "\n",
    "        #Calculate norm with current value of x_k\n",
    "        current_norm = np.linalg.norm(taylor_approximate(eval_next, value))\n",
    "\n",
    "        #Evaluate norm values\n",
    "        if current_norm > prev_norm:\n",
    "            \n",
    "            #Keep evaluation\n",
    "            eval_next = eval_prev\n",
    "            \n",
    "            #Increase lambda (times 2)\n",
    "            lambda_init *= 2.0\n",
    "\n",
    "        else:\n",
    "            #Replace with new evaluation\n",
    "            eval_prev = eval_next\n",
    "            \n",
    "            #Decrease lambda (times. 8)\n",
    "            lambda_init *= 0.8\n",
    "\n",
    "        #If below threshold, return evaluation\n",
    "        if current_norm <= threshold:\n",
    "            return eval_next"
   ]
  },
  {
   "cell_type": "code",
   "execution_count": 45,
   "metadata": {},
   "outputs": [
    {
     "name": "stdout",
     "output_type": "stream",
     "text": [
      "Computation:\n",
      "0.5671433135310934\n",
      "Evaluation of function:\n",
      "1.0000000638893316\n"
     ]
    }
   ],
   "source": [
    "#Computation of Lambert W-function for value of 1\n",
    "LM_imp_test = Compute_W(value = 1)\n",
    "\n",
    "#Evaluate Lambert W-function\n",
    "LM_imp_test_eval = (LM_imp_test * np.exp(LM_imp_test))\n",
    "\n",
    "print('Computation:')\n",
    "print(LM_imp_test)\n",
    "print('Evaluation of function:')\n",
    "print(LM_imp_test_eval)"
   ]
  },
  {
   "cell_type": "markdown",
   "metadata": {},
   "source": [
    "### 18.4"
   ]
  },
  {
   "cell_type": "markdown",
   "metadata": {},
   "source": [
    "\n",
    "Given\n",
    "$\\theta_k $ of two terms,\n",
    "<br>\n",
    "\n",
    "Theta coefficient update is  $\\theta_{k + 1} = \\theta_k -  ( J f(x, \\theta_k) ^T  Jf(x, \\theta_k) )\n",
    "(Jf(x, \\theta_k)^T Jf(x, \\theta_k) + \\lambda I )^{-1} $ "
   ]
  },
  {
   "cell_type": "code",
   "execution_count": 46,
   "metadata": {},
   "outputs": [],
   "source": [
    "#Function that evaluates the exponential function\n",
    "def exp_function(theta1, theta2, x_val, y_val):\n",
    "    func_value = theta1 * np.exp(theta2 * x_val) - y_val\n",
    "    return func_value\n",
    "\n",
    "#Function that takes derivative of exponential function\n",
    "def derivative_exp_function(theta1, theta2, x_val):\n",
    "    deriv_theta_1 = np.exp(theta2 * x_val)\n",
    "    deriv_theta_2 = theta1 * x_val * np.exp(theta2 * x_val)\n",
    "    return np.array([deriv_theta_1,deriv_theta_2])"
   ]
  },
  {
   "cell_type": "code",
   "execution_count": 47,
   "metadata": {},
   "outputs": [],
   "source": [
    "def LM_fit(theta_1 = 1, theta_2 = 1):\n",
    "\n",
    "    #Initialize values\n",
    "    \n",
    "    #Threshold\n",
    "    threshold = (10)**(-6)\n",
    "    \n",
    "    #Vector of theta coefficients\n",
    "    thetas = np.array([theta_1, theta_2])\n",
    "    \n",
    "    #values of x\n",
    "    x_data = [5.2, 4.5, 2.7, 2.5, 2.1, 1.9]\n",
    "    \n",
    "    #Number of dimensions\n",
    "    num_dim = len(x_data)\n",
    "    \n",
    "    #Lambda error\n",
    "    lambda_error = 1\n",
    "    \n",
    "    #Pre-allocate residual values and Jacobian matrix\n",
    "    resid = []\n",
    "    Jacobian_matrix = []\n",
    "    \n",
    "    for iter in range(num_dim):\n",
    "        resid.append(0)\n",
    "        Jacobian_matrix.append(None)\n",
    "    \n",
    "    #Algorithm stopping counter\n",
    "    stopping_counter = 0\n",
    "\n",
    "    #Calculate residual value and Jacobian vector for each value of x\n",
    "    for x_iter, observation in enumerate(x_data):\n",
    "        resid[x_iter] = exp_function(theta_1, theta_2, x_iter, observation)\n",
    "        Jacobian_matrix[x_iter] = derivative_exp_function(theta_1, theta_2,  x_iter)\n",
    "    \n",
    "    #Transfer to arrays\n",
    "    resid = np.array(resid)\n",
    "    Jacobian_matrix = np.array(Jacobian_matrix)\n",
    "    #Objective terms\n",
    "    current_norm = np.linalg.norm(resid)\n",
    "\n",
    "    #Run algorithm\n",
    "    while True:\n",
    "        \n",
    "        #Jacobian calculations\n",
    "        #Transpose Jacobian matrix\n",
    "        Jacobian_T = np.transpose(Jacobian_matrix)\n",
    "        \n",
    "        #First Jacobian term \n",
    "        first_Jacobian_term = np.matmul(Jacobian_T, resid)\n",
    "        \n",
    "        #Second Jacobian term\n",
    "        second_Jacobian_term = np.matmul(Jacobian_T,  Jacobian_matrix) + lambda_error * np.identity(2)\n",
    "        \n",
    "        #Inverse of second Jacobian term\n",
    "        inv_second_Jacobian_term = np.linalg.inv(second_Jacobian_term)\n",
    "        \n",
    "        #Matrix multiplication of Jacobian terms\n",
    "        total_Jacobian_term = np.matmul(inv_second_Jacobian_term, first_Jacobian_term)\n",
    "        \n",
    "        #Theta vector for next iteration\n",
    "        next_theta = thetas - total_Jacobian_term\n",
    "\n",
    "        #Residual calcuations\n",
    "        #Residual terms for next iteration\n",
    "        next_resid = []\n",
    "        \n",
    "        #Evaluate exponential function for each x value\n",
    "        for x_iter, y_val in enumerate(x_data):\n",
    "            next_resid.append(exp_function(next_theta[0], next_theta[1], x_iter, y_val))\n",
    "            \n",
    "        #Format as array\n",
    "        np.array(next_resid)\n",
    "        \n",
    "        #Previous norm\n",
    "        prev_norm = np.linalg.norm(resid)\n",
    "        \n",
    "        #Current norm\n",
    "        current_norm = np.linalg.norm(next_resid)\n",
    "        \n",
    "        #Checks if the previous and current norms are close enough\n",
    "        if np.around(prev_norm, 4) == np.around(current_norm, 4):\n",
    "            stopping_counter = stopping_counter + 1\n",
    "            if stopping_counter == 10:\n",
    "                return next_theta\n",
    "\n",
    "        #Given the previous norm is greater than current, update Jacobian and residual\n",
    "        if current_norm < prev_norm:\n",
    "            \n",
    "            #Update Jacobian\n",
    "            Jacobian_matrix = []\n",
    "            for x_iter in x_data:\n",
    "                Jacobian_matrix.append(derivative_exp_function(next_theta[0], next_theta[1], x_iter))\n",
    "            \n",
    "            #Transfer to array\n",
    "            Jacobian_matrix = np.array(Jacobian_matrix)\n",
    "            \n",
    "            #Update residual, theta, lambda error\n",
    "            resid = next_resid\n",
    "            thetas = next_theta\n",
    "            lambda_error = lambda_error*0.8\n",
    "        \n",
    "        #Return if below threshold\n",
    "        if current_norm < threshold:\n",
    "            return next_theta\n",
    "        \n",
    "        #if null, increase lambda error\n",
    "        else:\n",
    "            lambda_error = lambda_error*2\n"
   ]
  },
  {
   "cell_type": "code",
   "execution_count": 48,
   "metadata": {},
   "outputs": [],
   "source": [
    "def LM_fit_plot(thetas = LM_fit(5.2, -1.0)):\n",
    "    \n",
    "    #Define x data\n",
    "    x_data = [5.2, 4.5, 2.7, 2.5, 2.1, 1.9]\n",
    "    num_dim = len(x_data)\n",
    "    \n",
    "    #Iterations counter\n",
    "    x_iters = []\n",
    "    for iter in range(num_dim):\n",
    "        x_iters.append(iter)\n",
    "\n",
    "    #Predictions\n",
    "    predicted = []\n",
    "    for x in x_iters:\n",
    "        predicted.append(thetas[0] * np.exp(thetas[1] * x))\n",
    "\n",
    "    #Plotting\n",
    "    figure, axis = plt.subplots()\n",
    "    training_data = axis.plot(x_iters, x_data, label='Training Data')\n",
    "    prediction = axis.plot(x_iters, predicted, label='Prediction')\n",
    "    axis.legend()\n",
    "    plt.show()"
   ]
  },
  {
   "cell_type": "code",
   "execution_count": 49,
   "metadata": {},
   "outputs": [
    {
     "data": {
      "image/png": "[encoded data removed]",
      "text/plain": [
       "<Figure size 432x288 with 1 Axes>"
      ]
     },
     "metadata": {
      "needs_background": "light"
     },
     "output_type": "display_data"
    }
   ],
   "source": [
    "#Plot \n",
    "LM_fit_plot()"
   ]
  },
  {
   "cell_type": "markdown",
   "metadata": {},
   "source": [
    "### 18.8"
   ]
  },
  {
   "cell_type": "markdown",
   "metadata": {},
   "source": [
    "a)"
   ]
  },
  {
   "cell_type": "markdown",
   "metadata": {},
   "source": [
    "$\\theta = \\begin{bmatrix} c_1 & c_2 & r & \\delta & \\alpha \\end{bmatrix}$\n",
    "<br>\n",
    "\n",
    "$J_{i,j} = \\frac{d \\Omega_i(t, \\theta_j)}{d \\theta^k_j}$ \n",
    "<br>\n",
    "\n",
    "$ J_{i,j} = \\begin{bmatrix}\n",
    "  f_{1i} & f_{2i} & f_{1i} cos(\\alpha + t_i) + f_{2i} sin(\\alpha + t_i)\n",
    "   & f_{1i} cos(\\alpha - t_i) + f_{2i} sin(\\alpha - t_i)\n",
    "   & (f_{2i} (r cos(\\alpha + t) + \\delta cos(\\alpha - t) )) - (f_{2i}(r sin(\\alpha + t) + \\delta sin(\\alpha - t))\n",
    "   \\end{bmatrix}$ \n",
    "<br> \n",
    "<br>\n",
    "\n",
    "$ \\theta ^{k + 1} = \\theta ^ k - (J_k^T J_k  + \\lambda ^ k I)^{-1}  J_k^T r_k $\n",
    "<br>"
   ]
  },
  {
   "cell_type": "markdown",
   "metadata": {},
   "source": [
    "b)"
   ]
  },
  {
   "cell_type": "code",
   "execution_count": 51,
   "metadata": {},
   "outputs": [],
   "source": [
    "#Declare data pairs\n",
    "obs_data = np.array([[0.5, 1.5],[-0.3, 0.6], [1.0, 1.8], [-0.4, 0.2], [0.2, 1.3], \\\n",
    "                    [0.7, 0.1], [2.3, 0.8], [1.4, 0.5], [0.0 ,0.2], [2.4, 1.7]])\n",
    "\n",
    "#Initalize values\n",
    "\n",
    "#Initial values of c1, c2\n",
    "c_1 = obs_data[:,0]\n",
    "c_2 = obs_data[:,1]\n",
    "\n",
    "#Inital value of r\n",
    "r_init = 1 \n",
    "\n",
    "#Inital value of delta\n",
    "delta_init = 0\n",
    "\n",
    "#Inital value of alpha\n",
    "alpha_init = 0\n",
    "\n",
    "#Lambda error\n",
    "lambda_error = 1\n",
    "\n",
    "#Declare Jacobian\n",
    "theta = np.array([c_1, c_2, r_init, delta_init, alpha_init])"
   ]
  },
  {
   "cell_type": "code",
   "execution_count": 1,
   "metadata": {},
   "outputs": [
    {
     "data": {
      "text/plain": [
       "'\\ndef compute_jacobian(theta, obs_data):\\n\\n    #Pre-allocate Jacobian rows\\n    Jacobian = np.empty([len(obs_data),1])\\n    \\n    for i,row in range(len(Jacobian)):\\n\\n        #Derivatives of each Jacobian term\\n        \\n        #Derivative c_1\\n        derivative_c_1 = (c_1 + (r_init*np.cos(alpha_init)) + (delta_init * np.cos(alpha_init)) - (obs_data[i][0]))\\n        \\n        #Derivative c_2\\n        derivative_c_2 = (c_2 + (r_init*np.sin(alpha_init) + (delta_init * np.sin(alpha_init)) - (obs_data[i][1]))\\n        \\n        #Derivative r\\n        derivative_r = (derivative_c_1 * np.cos(alpha_init) + derivative_c_2 *np.sin(alpha_init))\\n        \\n        #Deriative delta\\n        deriative_delta = derivative_c_1 * np.cos(alpha_init) + derivative_c_2 *np.sin(alpha_init)\\n        \\n        #Derivative alpha\\n        derivative_alpha = derivative_c_2 * (r_init*np.cos(alpha_init) + delta_init * np.cos(alpha_init) ) - derivative_c_1 * (r_init*np.sin(alpha_init) + delta_init * np.sin(alpha_init))\\n\\n        row = np.array([derivative_c_1, derivative_c_2, derivative_r, deriative_delta, derivative_alpha])\\n\\n    return Jacobian\\n'"
      ]
     },
     "execution_count": 1,
     "metadata": {},
     "output_type": "execute_result"
    }
   ],
   "source": [
    "'''\n",
    "def compute_jacobian(theta, obs_data):\n",
    "\n",
    "    #Pre-allocate Jacobian rows\n",
    "    Jacobian = np.empty([len(obs_data),1])\n",
    "    \n",
    "    for i,row in range(len(Jacobian)):\n",
    "\n",
    "        #Derivatives of each Jacobian term\n",
    "        \n",
    "        #Derivative c_1\n",
    "        derivative_c_1 = (c_1 + (r_init*np.cos(alpha_init)) + (delta_init * np.cos(alpha_init)) - (obs_data[i][0]))\n",
    "        \n",
    "        #Derivative c_2\n",
    "        derivative_c_2 = (c_2 + (r_init*np.sin(alpha_init) + (delta_init * np.sin(alpha_init)) - (obs_data[i][1]))\n",
    "        \n",
    "        #Derivative r\n",
    "        derivative_r = (derivative_c_1 * np.cos(alpha_init) + derivative_c_2 *np.sin(alpha_init))\n",
    "        \n",
    "        #Deriative delta\n",
    "        deriative_delta = derivative_c_1 * np.cos(alpha_init) + derivative_c_2 *np.sin(alpha_init)\n",
    "        \n",
    "        #Derivative alpha\n",
    "        derivative_alpha = derivative_c_2 * (r_init*np.cos(alpha_init) + delta_init * np.cos(alpha_init) ) - derivative_c_1 * (r_init*np.sin(alpha_init) + delta_init * np.sin(alpha_init))\n",
    "\n",
    "        row = np.array([derivative_c_1, derivative_c_2, derivative_r, deriative_delta, derivative_alpha])\n",
    "\n",
    "    return Jacobian\n",
    "'''    "
   ]
  }
 ],
 "metadata": {
  "kernelspec": {
   "display_name": "Python 3",
   "language": "python",
   "name": "python3"
  },
  "language_info": {
   "codemirror_mode": {
    "name": "ipython",
    "version": 3
   },
   "file_extension": ".py",
   "mimetype": "text/x-python",
   "name": "python",
   "nbconvert_exporter": "python",
   "pygments_lexer": "ipython3",
   "version": "3.7.4"
  }
 },
 "nbformat": 4,
 "nbformat_minor": 2
}
